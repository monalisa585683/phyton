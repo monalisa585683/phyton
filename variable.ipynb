{
 "cells": [
  {
   "cell_type": "code",
   "execution_count": 1,
   "id": "26fcbcd5",
   "metadata": {},
   "outputs": [
    {
     "name": "stdout",
     "output_type": "stream",
     "text": [
      "hello\n"
     ]
    }
   ],
   "source": [
    "print(\"hello\")"
   ]
  },
  {
   "cell_type": "code",
   "execution_count": 4,
   "id": "5538775a",
   "metadata": {},
   "outputs": [],
   "source": [
    "#Create a variable named pi \n",
    "pi=22/7"
   ]
  },
  {
   "cell_type": "code",
   "execution_count": 5,
   "id": "480df6bf",
   "metadata": {},
   "outputs": [
    {
     "name": "stdout",
     "output_type": "stream",
     "text": [
      "3.142857142857143\n"
     ]
    }
   ],
   "source": [
    "print(pi)"
   ]
  },
  {
   "cell_type": "code",
   "execution_count": 6,
   "id": "1cba2a3b",
   "metadata": {},
   "outputs": [
    {
     "data": {
      "text/plain": [
       "float"
      ]
     },
     "execution_count": 6,
     "metadata": {},
     "output_type": "execute_result"
    }
   ],
   "source": [
    "type(pi)"
   ]
  },
  {
   "cell_type": "code",
   "execution_count": 8,
   "id": "2f81f90d",
   "metadata": {},
   "outputs": [],
   "source": [
    "#creating for variable\n"
   ]
  },
  {
   "cell_type": "code",
   "execution_count": 9,
   "id": "237b2a7b",
   "metadata": {},
   "outputs": [],
   "source": [
    "for_=4"
   ]
  },
  {
   "cell_type": "code",
   "execution_count": 10,
   "id": "1375c9ae",
   "metadata": {},
   "outputs": [
    {
     "name": "stdout",
     "output_type": "stream",
     "text": [
      "4\n"
     ]
    }
   ],
   "source": [
    "print(for_)"
   ]
  },
  {
   "cell_type": "code",
   "execution_count": 11,
   "id": "a8275b4c",
   "metadata": {},
   "outputs": [
    {
     "data": {
      "text/plain": [
       "int"
      ]
     },
     "execution_count": 11,
     "metadata": {},
     "output_type": "execute_result"
    }
   ],
   "source": [
    "type(for_)"
   ]
  },
  {
   "cell_type": "code",
   "execution_count": 14,
   "id": "cb115f35",
   "metadata": {},
   "outputs": [],
   "source": [
    "# 3. Calculate Simple Interest\n",
    "principle_amount = 567.00\n",
    "rate_of_interest = 5.6\n",
    "time = 3"
   ]
  },
  {
   "cell_type": "code",
   "execution_count": 15,
   "id": "22e0b2d8",
   "metadata": {},
   "outputs": [],
   "source": [
    "simple_interest = principle_amount * rate_of_interest * time / 100"
   ]
  },
  {
   "cell_type": "code",
   "execution_count": 17,
   "id": "85908d57",
   "metadata": {},
   "outputs": [
    {
     "name": "stdout",
     "output_type": "stream",
     "text": [
      "95.25599999999999\n"
     ]
    }
   ],
   "source": [
    "print(simple_interest)"
   ]
  },
  {
   "cell_type": "code",
   "execution_count": 18,
   "id": "dcf54465",
   "metadata": {},
   "outputs": [
    {
     "data": {
      "text/plain": [
       "float"
      ]
     },
     "execution_count": 18,
     "metadata": {},
     "output_type": "execute_result"
    }
   ],
   "source": [
    "type(simple_interest)"
   ]
  },
  {
   "cell_type": "code",
   "execution_count": 19,
   "id": "26600e58",
   "metadata": {},
   "outputs": [],
   "source": [
    "total_amount = principle_amount + simple_interest"
   ]
  },
  {
   "cell_type": "code",
   "execution_count": 20,
   "id": "1b9dc8fd",
   "metadata": {},
   "outputs": [
    {
     "name": "stdout",
     "output_type": "stream",
     "text": [
      "662.256\n"
     ]
    }
   ],
   "source": [
    "print(total_amount)"
   ]
  },
  {
   "cell_type": "code",
   "execution_count": null,
   "id": "54cfa71d",
   "metadata": {},
   "outputs": [],
   "source": [
    "thank you."
   ]
  }
 ],
 "metadata": {
  "kernelspec": {
   "display_name": "Python 3 (ipykernel)",
   "language": "python",
   "name": "python3"
  },
  "language_info": {
   "codemirror_mode": {
    "name": "ipython",
    "version": 3
   },
   "file_extension": ".py",
   "mimetype": "text/x-python",
   "name": "python",
   "nbconvert_exporter": "python",
   "pygments_lexer": "ipython3",
   "version": "3.8.10"
  }
 },
 "nbformat": 4,
 "nbformat_minor": 5
}
